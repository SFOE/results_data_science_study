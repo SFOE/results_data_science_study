{
 "cells": [
  {
   "cell_type": "markdown",
   "metadata": {},
   "source": [
    "# Analysis\n",
    "We first load the data saved in the preprocessing steps."
   ]
  },
  {
   "cell_type": "code",
   "execution_count": null,
   "metadata": {},
   "outputs": [],
   "source": [
    "import pandas as pd\n",
    "import os\n",
    "import seaborn as sns\n",
    "import numpy as np\n",
    "import matplotlib.pyplot as plt\n",
    "from plot_maps import single_map,map_with_progress_bar\n",
    "import helpers\n",
    "from functools import partial\n",
    "from settings import data_folder, preprocessed_folder\n",
    "\n",
    "%load_ext autoreload\n",
    "%autoreload 2\n",
    "\n",
    "helpers.set_plotting() "
   ]
  },
  {
   "cell_type": "code",
   "execution_count": null,
   "metadata": {},
   "outputs": [],
   "source": [
    "measure_name = [\n",
    "    \"Envelope \\nrenovation (M-01)\",\n",
    "    \"Wood/pellets\\nheating (M-02)\",\n",
    "    \"Wood heating\\n <70kW (M-03)\",\n",
    "    \"Wood heating\\n >70kW (M-04)\",\n",
    "    \"Air/water heat \\npump (M-05)\",\n",
    "    \"Elec. heat \\npump (M-06)\",\n",
    "    \"Connection to dec.\\n heating (M-07)\",\n",
    "]\n",
    "\n",
    "db_with_terrain_class = helpers.load_database()\n",
    "m01 = db_with_terrain_class[db_with_terrain_class[\"Nr. HFM 2015\"] == \"M-01\"].copy()\n",
    "heating_codes = [\"M-02\", \"M-03\", \"M-04\", \"M-05\", \"M-06\", \"M-07\"]\n",
    "m02_m07 = db_with_terrain_class[\n",
    "    db_with_terrain_class[\"Nr. HFM 2015\"].isin(heating_codes)\n",
    "].copy()\n"
   ]
  },
  {
   "cell_type": "markdown",
   "metadata": {},
   "source": [
    "# Which measure is the most effective?"
   ]
  },
  {
   "cell_type": "markdown",
   "metadata": {},
   "source": [
    "We first check the difference in energy consumption and CO2 reduction with and without the supported measure per subsidy amount. But before moving, we preprocess the data."
   ]
  },
  {
   "cell_type": "code",
   "execution_count": null,
   "metadata": {},
   "outputs": [],
   "source": [
    "all_codes = [\"M-01\", \"M-02\", \"M-03\", \"M-04\", \"M-05\", \"M-06\", \"M-07\"]\n",
    "m01_m07 = db_with_terrain_class[\n",
    "    db_with_terrain_class[\"Nr. HFM 2015\"].isin(all_codes)\n",
    "].copy()\n",
    "col_no_measure = \"Energiewirkung über die Massnahmenlebensdauer ggü. nicht energetischer Massnahme (Instandhaltung) (MWh)\"\n",
    "col_with_measure = (\n",
    "    \"Energiewirkung über die Massnahmenlebensdauer ggü. Referenz HFM 2015 (MWh)\"\n",
    ")\n",
    "m01_m07[\"diff_conso\"] = m01_m07[col_no_measure] - m01_m07[col_with_measure]\n",
    "m01_m07[\"diff_conso_per_chf\"] = (\n",
    "    m01_m07[\"diff_conso\"] * 1000 / m01_m07[\"Verpflichteter Beitrag\"]\n",
    ")\n",
    "col_no_measure = \"CO2-Wirkung über die Massnahmenlebensdauer ggü. nicht energetischer Massnahme (Instandhaltung) (t CO2)\"\n",
    "col_with_measure = (\n",
    "    \"CO2-Wirkung über die Massnahmenlebensdauer ggü. Referenz HFM 2015 (t CO2)\"\n",
    ")\n",
    "\n",
    "m01_m07[\"diff_co2\"] = m01_m07[col_no_measure] - m01_m07[col_with_measure]\n",
    "m01_m07[\"diff_co2_per_chf\"] = (\n",
    "    m01_m07[\"diff_co2\"] * 1000 / m01_m07[\"Verpflichteter Beitrag\"]\n",
    ")\n"
   ]
  },
  {
   "cell_type": "markdown",
   "metadata": {},
   "source": [
    "### Energy consumption\n",
    "We first compute the median for each supported measure. The measure M-07 and M-04 provides the largest decrease in energy consumption for the same amount invested (subsidy)."
   ]
  },
  {
   "cell_type": "code",
   "execution_count": null,
   "metadata": {},
   "outputs": [],
   "source": [
    "ax = sns.barplot(\n",
    "    data=m01_m07,\n",
    "    x=\"Nr. HFM 2015\",\n",
    "    y=\"diff_conso_per_chf\",\n",
    "    order=[\"M-01\", \"M-02\", \"M-03\", \"M-04\", \"M-05\", \"M-06\", \"M-07\"],\n",
    "    estimator=np.median,\n",
    "    ci=95,\n",
    ")\n",
    "ax.set_xticklabels(measure_name, fontdict={\"fontsize\": 15})\n",
    "helpers.set_label(\n",
    "    xlabel=\"Supported measure\",\n",
    "    ylabel=\"Difference in consumption with/without supported \\n measure per subsidy amount (median, kWh/CHF)\",\n",
    ")\n",
    "\n",
    "helpers.save(\"diff_conso_per_chf_permeasure_median\")\n"
   ]
  },
  {
   "cell_type": "markdown",
   "metadata": {},
   "source": [
    "We show how the value vary between cantons."
   ]
  },
  {
   "cell_type": "code",
   "execution_count": null,
   "metadata": {},
   "outputs": [],
   "source": [
    "# Compute the median/measure/canton\n",
    "median_val = (\n",
    "    m01_m07.groupby([\"Nr. HFM 2015\", \"Kanton\"])\n",
    "    .diff_conso_per_chf.median()\n",
    "    .reset_index()\n",
    ")\n",
    "# Get 4 smallest values\n",
    "smallest_4 = (\n",
    "    median_val.sort_values([\"Nr. HFM 2015\", \"diff_conso_per_chf\"])\n",
    "    .dropna()\n",
    "    .groupby(\"Nr. HFM 2015\")\n",
    "    .head(4)\n",
    "    .reset_index(drop=True)\n",
    ")\n",
    "smallest_4[\"rank\"] = smallest_4.groupby(\"Nr. HFM 2015\").diff_conso_per_chf.rank(\n",
    "    \"first\", ascending=True\n",
    ")\n",
    "smallest_4[\"stats\"] = \"Cantons with smallest median\"\n",
    "\n",
    "# Get 4 largest values\n",
    "biggest_4 = (\n",
    "    median_val.sort_values([\"Nr. HFM 2015\", \"diff_conso_per_chf\"])\n",
    "    .dropna()\n",
    "    .groupby(\"Nr. HFM 2015\")\n",
    "    .tail(4)\n",
    "    .reset_index(drop=True)\n",
    ")\n",
    "biggest_4[\"rank\"] = (\n",
    "    biggest_4.groupby(\"Nr. HFM 2015\").diff_conso_per_chf.rank(\"first\", ascending=True)\n",
    "    + 26\n",
    "    - 4\n",
    ")\n",
    "biggest_4[\"stats\"] = \"Cantons with largest median\"\n",
    "ranked = (\n",
    "    pd.concat((smallest_4, biggest_4), axis=0, ignore_index=True)\n",
    "    .rename(columns={\"Kanton\": \"Canton\"})\n",
    "    .sort_values([\"rank\", \"Nr. HFM 2015\", \"diff_conso_per_chf\"])\n",
    "    .reset_index(drop=True)\n",
    ")\n",
    "ranked = ranked.astype({\"rank\": \"int\"})\n",
    "\n",
    "# Plotting\n",
    "fig, ax = plt.subplots(figsize=(15, 6))\n",
    "ax = sns.barplot(\n",
    "    data=ranked,\n",
    "    x=\"Nr. HFM 2015\",\n",
    "    y=\"diff_conso_per_chf\",\n",
    "    order=[\"M-01\", \"M-02\", \"M-03\", \"M-04\", \"M-05\", \"M-06\", \"M-07\"],\n",
    "    hue=\"rank\",\n",
    "    ax=ax,\n",
    "    palette=\"magma\",\n",
    ")\n",
    "ax.set_xticklabels(measure_name)\n",
    "\n",
    "# Add annotations\n",
    "for i, p in enumerate(ax.patches):\n",
    "    h, w, x = p.get_height(), p.get_width(), p.get_x()\n",
    "    xy = (x + w / 2.0, h + 5)\n",
    "    text = ranked.loc[i, \"Canton\"]\n",
    "    ax.annotate(\n",
    "        text=text,\n",
    "        xy=xy,\n",
    "        ha=\"center\",\n",
    "        va=\"center\",\n",
    "        rotation=90,\n",
    "        size=13,\n",
    "        weight=\"semibold\",\n",
    "        fontname=\"Verdana\",\n",
    "    )\n",
    "\n",
    "helpers.set_label(\n",
    "    xlabel=\"Supported measure\",\n",
    "    ylabel=\"Difference in consumption with/without  supported \\n measure per subsidy amount (kWh/CHF)\",\n",
    ")\n",
    "helpers.save(\"diff_conso_per_chf_permeasure_median_top4\")\n"
   ]
  },
  {
   "cell_type": "markdown",
   "metadata": {},
   "source": [
    "### CO2 reduction\n",
    "We perform the same computation as before, but with the difference in CO2/subsidy. As before measures M-04 and M-07 provides the largest decrease in CO2 production for the same investment. Note that we don't take into account if the installation they are upgrading is particularly old in one category, which could explain the differences. "
   ]
  },
  {
   "cell_type": "code",
   "execution_count": null,
   "metadata": {},
   "outputs": [],
   "source": [
    "ax = sns.barplot(\n",
    "    data=m01_m07,\n",
    "    x=\"Nr. HFM 2015\",\n",
    "    y=\"diff_co2_per_chf\",\n",
    "    order=[\"M-01\", \"M-02\", \"M-03\", \"M-04\", \"M-05\", \"M-06\", \"M-07\"],\n",
    "    estimator=np.median,\n",
    "    ci=95,\n",
    ")\n",
    "ax.set_xticklabels(measure_name, fontdict={\"fontsize\": 13})\n",
    "helpers.set_label(\n",
    "    xlabel=\"Supported measure\",\n",
    "    ylabel=\"Difference in CO2 production with/without measure\\n per subsidy amount (median, kg CO2/CHF)\",\n",
    ")\n",
    "helpers.save(\"diff_co2_per_chf_permeasure_median\")\n"
   ]
  },
  {
   "cell_type": "markdown",
   "metadata": {},
   "source": [
    "We compare the values between the cantons"
   ]
  },
  {
   "cell_type": "code",
   "execution_count": null,
   "metadata": {},
   "outputs": [],
   "source": [
    "# Compute median/measure/Canton\n",
    "median_val = (\n",
    "    m01_m07.groupby([\"Nr. HFM 2015\", \"Kanton\"]).diff_co2_per_chf.median().reset_index()\n",
    ")\n",
    "smallest_4 = (\n",
    "    median_val.sort_values([\"Nr. HFM 2015\", \"diff_co2_per_chf\"])\n",
    "    .dropna()\n",
    "    .groupby(\"Nr. HFM 2015\")\n",
    "    .head(4)\n",
    "    .reset_index(drop=True)\n",
    ")\n",
    "smallest_4[\"rank\"] = smallest_4.groupby(\"Nr. HFM 2015\").diff_co2_per_chf.rank(\n",
    "    \"first\", ascending=True\n",
    ")\n",
    "smallest_4[\"stats\"] = \"Cantons with smallest median\"\n",
    "biggest_4 = (\n",
    "    median_val.sort_values([\"Nr. HFM 2015\", \"diff_co2_per_chf\"])\n",
    "    .dropna()\n",
    "    .groupby(\"Nr. HFM 2015\")\n",
    "    .tail(4)\n",
    "    .reset_index(drop=True)\n",
    ")\n",
    "biggest_4[\"rank\"] = (\n",
    "    biggest_4.groupby(\"Nr. HFM 2015\").diff_co2_per_chf.rank(\"first\", ascending=True)\n",
    "    + 26\n",
    "    - 4\n",
    ")\n",
    "biggest_4[\"stats\"] = \"Cantons with largest median\"\n",
    "ranked = (\n",
    "    pd.concat((smallest_4, biggest_4), axis=0, ignore_index=True)\n",
    "    .rename(columns={\"Kanton\": \"Canton\"})\n",
    "    .sort_values([\"rank\", \"Nr. HFM 2015\", \"diff_co2_per_chf\"])\n",
    "    .reset_index(drop=True)\n",
    ")\n",
    "ranked = ranked.astype({\"rank\": \"int\"})\n",
    "fig, ax = plt.subplots(figsize=(15, 6))\n",
    "ax = sns.barplot(\n",
    "    data=ranked,\n",
    "    x=\"Nr. HFM 2015\",\n",
    "    y=\"diff_co2_per_chf\",\n",
    "    order=[\"M-01\", \"M-02\", \"M-03\", \"M-04\", \"M-05\", \"M-06\", \"M-07\"],\n",
    "    hue=\"rank\",\n",
    "    ax=ax,\n",
    "    palette=\"magma\",\n",
    ")\n",
    "ax.set_xticklabels(measure_name)\n",
    "\n",
    "# Add annotations\n",
    "for i, p in enumerate(ax.patches):\n",
    "    h, w, x = p.get_height(), p.get_width(), p.get_x()\n",
    "    xy = (x + w / 2.0, h + 2)\n",
    "    text = ranked.loc[i, \"Canton\"]\n",
    "    ax.annotate(\n",
    "        text=text,\n",
    "        xy=xy,\n",
    "        ha=\"center\",\n",
    "        va=\"center\",\n",
    "        rotation=90,\n",
    "        size=13,\n",
    "        weight=\"semibold\",\n",
    "        fontname=\"Verdana\",\n",
    "    )\n",
    "\n",
    "helpers.set_label(\n",
    "    xlabel=\"Supported measure\",\n",
    "    ylabel=\"Difference in CO2 production with/without supported \\n measure per subsidy amount (median, kg CO2/CHF)\",\n",
    ")\n",
    "helpers.save(\"diff_co2_per_chf_permeasure_median_top4\")\n"
   ]
  },
  {
   "cell_type": "markdown",
   "metadata": {},
   "source": [
    "## Which installation provides the largest power for the same amount of subsidies?\n",
    "### Heating replacement measures\n",
    "We compute the number of installed power / subsidies (M-02,...M-07)"
   ]
  },
  {
   "cell_type": "code",
   "execution_count": null,
   "metadata": {},
   "outputs": [],
   "source": [
    "db_heating = m02_m07\n",
    "db_heating[\"Anzahl Stückholz-/Pelletsfeuerungen mit Tagesbehälter\"].fillna(\n",
    "    1, inplace=True\n",
    ")\n",
    "\n",
    "# Set to 25 kW for measure M-02 (according to HFM 2015 Table 10)\n",
    "db_heating.loc[db_heating[\"Nr. HFM 2015\"] == \"M-02\", \"Thermische Nennleistung\"] = 25\n",
    "# Remove missing values (just 2 for measure M-03)\n",
    "db_heating = db_heating[~db_heating[\"Thermische Nennleistung\"].isnull()].copy()\n",
    "db_heating[\"puissance\"] = (\n",
    "    db_heating[\"Thermische Nennleistung\"]\n",
    "    * db_heating[\"Anzahl Stückholz-/Pelletsfeuerungen mit Tagesbehälter\"]\n",
    ")\n",
    "db_heating[\"subside_per_kw\"] = (\n",
    "    db_heating[\"Verpflichteter Beitrag\"] / db_heating[\"puissance\"]\n",
    ")\n"
   ]
  },
  {
   "cell_type": "markdown",
   "metadata": {},
   "source": [
    "We use several visualizations for the data. We first compute the min,median,max."
   ]
  },
  {
   "cell_type": "code",
   "execution_count": null,
   "metadata": {},
   "outputs": [],
   "source": [
    "# Compute min,median,max\n",
    "subside = db_heating.groupby([\"Nr. HFM 2015\"]).agg(\n",
    "    {\"subside_per_kw\": [\"min\", \"median\", \"max\"]}\n",
    ")\n",
    "# Reshape data\n",
    "data = (\n",
    "    pd.melt(subside, col_level=1, ignore_index=False)\n",
    "    .reset_index()\n",
    "    .rename(columns={\"value\": \"Subsides per kW\"})\n",
    ")\n",
    "\n",
    "# Plotting\n",
    "ax = sns.barplot(data=data, x=\"Nr. HFM 2015\", y=\"Subsides per kW\", hue=\"variable\")\n",
    "helpers.set_label(ylabel=\"Subsidy/kW\", ax=ax)\n",
    "\n",
    "# Setting to a log scale\n",
    "helpers.set_log_yscale(17, ax)\n",
    "\n",
    "helpers.set_label(xlabel=\"Supported measures\", ax=ax)\n",
    "\n",
    "ax.set_xticklabels(measure_name[1:])\n",
    "helpers.save(\"subside_heating_permeasure_log_scale\")\n"
   ]
  },
  {
   "cell_type": "markdown",
   "metadata": {},
   "source": [
    "With quantiles instead of min and max"
   ]
  },
  {
   "cell_type": "code",
   "execution_count": null,
   "metadata": {},
   "outputs": [],
   "source": [
    "statistics = [\n",
    "    partial(np.quantile, q=0.05),\n",
    "    \"median\",\n",
    "    partial(np.quantile, q=0.95),\n",
    "]\n",
    "subside = db_heating.groupby([\"Nr. HFM 2015\"]).agg({\"subside_per_kw\": statistics})\n",
    "subside.columns = [\"quantile 0.05\", \"median\", \"quantile 0.95\"]\n",
    "plt.rcParams[\"figure.figsize\"] = (12, 6)\n",
    "sns.set(font_scale=1.5)\n",
    "data = (\n",
    "    pd.melt(subside, ignore_index=False)\n",
    "    .reset_index()\n",
    "    .rename(columns={\"value\": \"Subsides per kW\"})\n",
    ")\n",
    "\n",
    "# Plotting\n",
    "ax = sns.barplot(data=data, x=\"Nr. HFM 2015\", y=\"Subsides per kW\", hue=\"variable\")\n",
    "helpers.set_label(ylabel=\"Subsidy/kW\", ax=ax)\n",
    "\n",
    "helpers.set_label(xlabel=\"Supported measures\", ax=ax)\n",
    "ax.set_xticklabels(measure_name[1:])\n",
    "helpers.save(\"subside_heating_permeasure_log_scale_quantiles\")\n"
   ]
  },
  {
   "cell_type": "markdown",
   "metadata": {},
   "source": [
    "Same plot, but just with the median"
   ]
  },
  {
   "cell_type": "code",
   "execution_count": null,
   "metadata": {},
   "outputs": [],
   "source": [
    "sns.set(font_scale=1.4)\n",
    "ax = sns.barplot(\n",
    "    data=db_heating,\n",
    "    x=\"Nr. HFM 2015\",\n",
    "    y=\"subside_per_kw\",\n",
    "    estimator=np.median,\n",
    "    ci=95,\n",
    "    order=[\"M-02\", \"M-03\", \"M-04\", \"M-05\", \"M-06\", \"M-07\"],\n",
    ")\n",
    "helpers.set_label(ylabel=\"Subsidy/kW\", ax=ax)\n",
    "helpers.set_label(xlabel=\"Supported measures\", ax=ax)\n",
    "ax.set_xticklabels(measure_name[1:])\n",
    "helpers.save(\"subside_heating_permeasure_median\")\n",
    "sns.set(font_scale=1.5)\n"
   ]
  },
  {
   "cell_type": "markdown",
   "metadata": {},
   "source": [
    "Explicit numbers"
   ]
  },
  {
   "cell_type": "code",
   "execution_count": null,
   "metadata": {},
   "outputs": [],
   "source": [
    "year = 2021 # set to None if you want the entire duration\n",
    "if year is not None:\n",
    "    df=db_heating[db_heating[\"Jahr Auszahlung 1\"] == year]\n",
    "else:\n",
    "    df=db_heating\n",
    "statistics = [\"min\", \"median\", \"max\"]\n",
    "np.round(\n",
    "    df.groupby([\"Nr. HFM 2015\"]).agg({\"subside_per_kw\": statistics}),\n",
    "    1,\n",
    ")\n"
   ]
  },
  {
   "cell_type": "markdown",
   "metadata": {},
   "source": [
    "A boxplot variation of the previous plot."
   ]
  },
  {
   "cell_type": "code",
   "execution_count": null,
   "metadata": {},
   "outputs": [],
   "source": [
    "fig, ax = plt.subplots(1, 1, figsize=(12, 6))\n",
    "ax = sns.boxplot(\n",
    "    x=\"Nr. HFM 2015\",\n",
    "    y=\"subside_per_kw\",\n",
    "    data=db_heating,\n",
    "    order=[\"M-02\", \"M-03\", \"M-04\", \"M-05\", \"M-06\", \"M-07\"],\n",
    "    ax=ax,\n",
    ")\n",
    "helpers.set_label(ylabel=\"Subsidy/kW\", ax=ax)\n",
    "# Setting to a log scale\n",
    "helpers.set_log_yscale(17, ax)\n",
    "helpers.set_label(xlabel=\"Supported measures\", ax=ax)\n",
    "ax.set_xticklabels(measure_name[1:], fontdict={\"fontsize\": 14})\n",
    "helpers.save(\"subside_heating_permeasure_boxplot\")\n"
   ]
  },
  {
   "cell_type": "markdown",
   "metadata": {},
   "source": [
    "Progression over the years of the amount of subsidies/kW"
   ]
  },
  {
   "cell_type": "code",
   "execution_count": null,
   "metadata": {},
   "outputs": [],
   "source": [
    "sns.set(font_scale=1.3)\n",
    "subside = (\n",
    "    db_heating.groupby([\"Nr. HFM 2015\", \"Jahr Auszahlung 1\"])\n",
    "    .agg({\"subside_per_kw\": [\"min\", \"median\", \"max\"]})\n",
    "    .reset_index()\n",
    "    .rename(columns={\"Jahr Auszahlung 1\": \"Year\"})\n",
    ")\n",
    "\n",
    "hue_order = [\"min\", \"median\", \"max\"]\n",
    "subside[\"Year\"] = pd.to_datetime(subside[\"Year\"], format=\"%Y\").dt.strftime(\"%Y\")\n",
    "subside = subside.set_index([\"Year\", \"Nr. HFM 2015\"])\n",
    "data = (\n",
    "    pd.melt(subside, col_level=1, ignore_index=False)\n",
    "    .reset_index()\n",
    "    .rename(columns={\"value\": \"Subsides per kW\"})\n",
    ")\n",
    "\n",
    "# Plotting\n",
    "fig, axs = plt.subplots(2, 3, figsize=(16, 10), sharey=True)\n",
    "axs = axs.flatten()\n",
    "for i, ax in enumerate(axs):\n",
    "    sns.lineplot(\n",
    "        x=\"Year\",\n",
    "        y=\"Subsides per kW\",\n",
    "        hue=\"variable\",\n",
    "        data=data[data[\"Nr. HFM 2015\"] == f\"M-0{i+2}\"],\n",
    "        hue_order=hue_order,\n",
    "        ax=ax,\n",
    "    )\n",
    "for i, ax in enumerate(axs):\n",
    "    helpers.set_label(ylabel=\"Subsidy/kW\", ax=ax)\n",
    "    # Setting to a log scale\n",
    "    helpers.set_log_yscale(17, ax)\n",
    "    ax.set_title(measure_name[1:][i])\n",
    "    if i > 0:\n",
    "        ax.get_legend().remove()\n",
    "helpers.save(\"subside_heating_permeasure_peryear_log_scale\")\n"
   ]
  },
  {
   "cell_type": "markdown",
   "metadata": {},
   "source": [
    "Same plot, but using boxplot visualization"
   ]
  },
  {
   "cell_type": "code",
   "execution_count": null,
   "metadata": {},
   "outputs": [],
   "source": [
    "sns.set(font_scale=1.3)\n",
    "subside = db_heating.rename(\n",
    "    columns={\"Jahr Auszahlung 1\": \"Year\", \"subside_per_kw\": \"Subsides per kW\"}\n",
    ")\n",
    "subside[\"Year\"] = pd.to_datetime(subside[\"Year\"], format=\"%Y\").dt.strftime(\"%Y\")\n",
    "fig, axs = plt.subplots(2, 3, figsize=(16, 10), sharey=True)\n",
    "axs = axs.flatten()\n",
    "for i, ax in enumerate(axs):\n",
    "    sns.boxplot(\n",
    "        x=\"Year\",\n",
    "        y=\"Subsides per kW\",\n",
    "        data=subside[subside[\"Nr. HFM 2015\"] == f\"M-0{i+2}\"],\n",
    "        order=[\"2017\", \"2018\", \"2019\", \"2020\", \"2021\"],\n",
    "        ax=ax,\n",
    "    )\n",
    "for i, ax in enumerate(axs):\n",
    "    helpers.set_label(ylabel=\"Subsidy/kW\", ax=ax)\n",
    "    # Setting to a log scale\n",
    "    helpers.set_log_yscale(17, ax)\n",
    "    ax.set_title(measure_name[1:][i])\n",
    "helpers.save(\"subside_heating_permeasure_peryear_log_scale_boxplot\")\n"
   ]
  },
  {
   "cell_type": "markdown",
   "metadata": {},
   "source": [
    "## Building envelope replacement\n",
    "We compute the subsidies/m2. This is similar to subsidies/kW computed before."
   ]
  },
  {
   "cell_type": "code",
   "execution_count": null,
   "metadata": {},
   "outputs": [],
   "source": [
    "# Check missing values -> none\n",
    "surface_col = [\n",
    "    \"Wärmegedämmte Fläche Fassade\",\n",
    "    \"Wärmegedämmte Fläche Dach\",\n",
    "    \"Wärmegedämmte Fläche Wand und Boden gegen Erdreich\",\n",
    "]\n",
    "print(\n",
    "    \"Number of rows with no surface area values specified:\",\n",
    "    len(m01[(m01[surface_col].isna().all(axis=1))]),\n",
    ")\n"
   ]
  },
  {
   "cell_type": "code",
   "execution_count": null,
   "metadata": {},
   "outputs": [],
   "source": [
    "not_missing_surface = m01\n",
    "not_missing_surface[\"surface\"] = not_missing_surface[surface_col].sum(axis=1)\n",
    "\n",
    "not_missing_surface[\"subside_per_m2\"] = (\n",
    "    not_missing_surface[\"Verpflichteter Beitrag\"] / not_missing_surface[\"surface\"]\n",
    ")\n"
   ]
  },
  {
   "cell_type": "markdown",
   "metadata": {},
   "source": [
    "Median subsidy/m2 over 2017-2021"
   ]
  },
  {
   "cell_type": "code",
   "execution_count": null,
   "metadata": {},
   "outputs": [],
   "source": [
    "not_missing_surface.agg({\"subside_per_m2\": [\"min\", \"max\", \"median\"]})\n"
   ]
  },
  {
   "cell_type": "markdown",
   "metadata": {},
   "source": [
    "In 2021"
   ]
  },
  {
   "cell_type": "code",
   "execution_count": null,
   "metadata": {},
   "outputs": [],
   "source": [
    "not_missing_surface[not_missing_surface[\"Jahr Auszahlung 1\"] == 2021].agg(\n",
    "    {\"subside_per_m2\": [\"min\", \"max\", \"median\"]}\n",
    ")\n"
   ]
  },
  {
   "cell_type": "code",
   "execution_count": null,
   "metadata": {},
   "outputs": [],
   "source": [
    "fig, ax = plt.subplots(1, 1, figsize=(8, 6))\n",
    "ax = sns.boxplot(y=\"subside_per_m2\", data=not_missing_surface, ax=ax)\n",
    "helpers.set_label(ylabel=\"Subsidy/m2\", ax=ax)\n",
    "# Setting to a log scale\n",
    "helpers.set_log_yscale(17, ax, offset=0.5)\n",
    "helpers.set_label(xlabel=\"All years\", ax=ax)\n",
    "helpers.save(\"subside_envelope_boxplot\")\n"
   ]
  },
  {
   "cell_type": "markdown",
   "metadata": {},
   "source": [
    "Breakdown per year"
   ]
  },
  {
   "cell_type": "code",
   "execution_count": null,
   "metadata": {},
   "outputs": [],
   "source": [
    "subside = (\n",
    "    not_missing_surface.groupby([\"Jahr Auszahlung 1\"])\n",
    "    .agg({\"subside_per_m2\": [\"min\", \"median\", \"max\"]})\n",
    "    .reset_index()\n",
    "    .rename(columns={\"Jahr Auszahlung 1\": \"Year\"})\n",
    ")\n",
    "\n",
    "subside[\"Year\"] = pd.to_datetime(subside[\"Year\"], format=\"%Y\").dt.strftime(\"%Y\")\n",
    "subside = subside.set_index([\"Year\"])\n",
    "g = sns.relplot(\n",
    "    kind=\"line\",\n",
    "    x=\"Year\",\n",
    "    y=\"Subsides per m2\",\n",
    "    facet_kws={\"sharey\": True, \"sharex\": True},\n",
    "    data=pd.melt(subside, col_level=1, ignore_index=False)\n",
    "    .reset_index()\n",
    "    .rename(columns={\"value\": \"Subsides per m2\"}),\n",
    "    hue=\"variable\",\n",
    "    aspect=1.3,\n",
    ")\n",
    "ax = g.ax\n",
    "helpers.set_label(ylabel=\"Subsidy/m2\", ax=ax)\n",
    "# Setting to a log scale\n",
    "helpers.set_log_yscale(17, ax, offset=0.5)\n",
    "leg = g._legend\n",
    "leg.set_bbox_to_anchor([1, 0.9])\n",
    "helpers.save(\"subside_envelope_peryear_log_scale\")\n"
   ]
  },
  {
   "cell_type": "markdown",
   "metadata": {},
   "source": [
    "Alternative representation"
   ]
  },
  {
   "cell_type": "code",
   "execution_count": null,
   "metadata": {},
   "outputs": [],
   "source": [
    "fig, ax = plt.subplots(1, 1, figsize=(10, 6))\n",
    "ax = sns.boxplot(\n",
    "    x=\"Jahr Auszahlung 1\", y=\"subside_per_m2\", data=not_missing_surface, ax=ax\n",
    ")\n",
    "helpers.set_label(ylabel=\"Subsidy/m2\", ax=ax)\n",
    "# Setting to a log scale\n",
    "helpers.set_log_yscale(17, ax, offset=0.5)\n",
    "helpers.set_label(xlabel=\"Year\", ax=ax)\n",
    "helpers.save(\"subside_envelope_peryear_boxplot\")\n"
   ]
  },
  {
   "cell_type": "markdown",
   "metadata": {},
   "source": [
    "## Breakdown/Canton\n",
    "Until now we only considered the data per year at the national level. In this section, we compute some statistics per canton and per year."
   ]
  },
  {
   "cell_type": "markdown",
   "metadata": {},
   "source": [
    "We first start with measures M-02,...,M-07"
   ]
  },
  {
   "cell_type": "code",
   "execution_count": null,
   "metadata": {},
   "outputs": [],
   "source": [
    "measure = \"M-07\"  # select measure among m-02,...,m-07\n",
    "subside_per_kw_tot = (\n",
    "    db_heating.groupby([\"Nr. HFM 2015\", \"Kanton\"])\n",
    "    .agg({\"subside_per_kw\": [\"min\", \"max\", \"median\", \"size\"]})\n",
    "    .droplevel(0, axis=1)\n",
    "    .reset_index()\n",
    ")\n",
    "data = helpers.merge_swiss_map(\n",
    "    subside_per_kw_tot[(subside_per_kw_tot[\"Nr. HFM 2015\"] == measure)]\n",
    ").astype({\"min\": float, \"max\": float, \"median\": float})\n",
    "\n",
    "\n",
    "map = single_map(\n",
    "    data,\n",
    "    \"median\",\n",
    "    measure,\n",
    "    [\"min\", \"max\", \"median\", \"size\"],\n",
    "    col_name=\"Median\",\n",
    "    cols_hover_name=[\"min\", \"max\", \"median\", \"n\"],\n",
    "    vmax=2650,\n",
    "    text_div=f\"Median subsidies/kW/Canton for measure {measure} over 5 years (2017-2021). Minimum and maximum subsidies/kW/Canton as well as the number of supported measure (n) is given.\",\n",
    "    name_map=\"2017-2021\",\n",
    ")\n",
    "helpers.save_map(f\"subside_per_kw_entire_duration_{measure}\", map)\n",
    "map\n"
   ]
  },
  {
   "cell_type": "markdown",
   "metadata": {},
   "source": [
    "For measure M-01, we have"
   ]
  },
  {
   "cell_type": "code",
   "execution_count": null,
   "metadata": {},
   "outputs": [],
   "source": [
    "measure = \"M-01\"\n",
    "subside_per_m2 = (\n",
    "    not_missing_surface.groupby([\"Kanton\"])\n",
    "    .agg({\"subside_per_m2\": [\"min\", \"max\", \"median\", \"size\"]})\n",
    "    .droplevel(0, axis=1)\n",
    "    .reset_index()\n",
    ")\n",
    "\n",
    "data = helpers.merge_swiss_map(subside_per_m2).astype(\n",
    "    {\"min\": float, \"max\": float, \"median\": float}\n",
    ")\n",
    "text_div = f\"Median subsidies/m2/Canton for measure {measure} over 5 years (2017-2021). Minimum and maximum subsidies/m2/Canton as well as the number of supported measure (n) is given.\"\n",
    "map = single_map(\n",
    "    data,\n",
    "    \"median\",\n",
    "    measure,\n",
    "    [\"min\", \"max\", \"median\", \"size\"],\n",
    "    col_name=\"Median\",\n",
    "    cols_hover_name=[\"min\", \"max\", \"median\", \"n\"],\n",
    "    vmax=100,\n",
    "    text_div=text_div,\n",
    "    name_map=\"2017-2021\",\n",
    ")\n",
    "helpers.save_map(f\"subside_per_m2_entire_duration_{measure}\", map)\n",
    "map\n"
   ]
  },
  {
   "cell_type": "markdown",
   "metadata": {},
   "source": [
    "### Over the years\n",
    "For the measures M-02,...M-07, we have"
   ]
  },
  {
   "cell_type": "code",
   "execution_count": null,
   "metadata": {},
   "outputs": [],
   "source": [
    "subside_per_kw_per_year = (\n",
    "    db_heating.groupby([\"Nr. HFM 2015\", \"Jahr Auszahlung 1\", \"Kanton\"])\n",
    "    .agg({\"subside_per_kw\": [\"min\", \"max\", \"median\", \"size\"]})\n",
    "    .droplevel(0, axis=1)\n",
    "    .reset_index()\n",
    ")"
   ]
  },
  {
   "cell_type": "code",
   "execution_count": null,
   "metadata": {},
   "outputs": [],
   "source": [
    "measure = \"M-07\"\n",
    "\n",
    "tmp = helpers.tensor_index_canton_year(\n",
    "    subside_per_kw_per_year,\n",
    "    subside_per_kw_per_year[\"Jahr Auszahlung 1\"].unique(),\n",
    "    measure,\n",
    ")\n",
    "\n",
    "# Plotting\n",
    "subside_per_kw_per_year_map = helpers.merge_swiss_map(tmp, \"inner\").astype(\n",
    "    {\"min\": float, \"max\": float, \"median\": float}\n",
    ")\n",
    "cols = [\"NAME\", \"size\", \"min\", \"max\", \"median\", \"Jahr Auszahlung 1\", \"geometry\"]\n",
    "data = (\n",
    "    subside_per_kw_per_year_map[cols]\n",
    "    .rename(columns={\"size\": \"n\", \"Jahr Auszahlung 1\": \"Year\", \"NAME\": \"Canton\"})\n",
    "    .copy()\n",
    ")\n",
    "fig = map_with_progress_bar(\n",
    "    data,\n",
    "    \"median\",\n",
    "    {\"min\": \":.2f\", \"max\": \":.2f\", \"n\": \":d\"},\n",
    "    vmax=2850,\n",
    "    height=None,\n",
    "    width=None,\n",
    ")\n",
    "text_div = f\"Median subsidies/kW/Canton/per year for measure {measure}. Minimum and maximum subsidies/kW/Canton/per year as well as the number of supported measure (n) is given. The same scale is used across supported measures.\"\n",
    "map = helpers.add_legend_map(fig, text_div)\n",
    "# Saving\n",
    "helpers.save_map(f\"subside_per_kw_{measure}\", map)\n",
    "fig\n"
   ]
  },
  {
   "cell_type": "markdown",
   "metadata": {},
   "source": [
    "Measure M-01"
   ]
  },
  {
   "cell_type": "code",
   "execution_count": null,
   "metadata": {},
   "outputs": [],
   "source": [
    "measure = \"M-01\"\n",
    "name_abbr = helpers.get_name_abbr()\n",
    "subside_per_m2_per_year = (\n",
    "    not_missing_surface.groupby([\"Jahr Auszahlung 1\", \"Kanton\"])\n",
    "    .agg({\"subside_per_m2\": [\"min\", \"max\", \"median\", \"size\"]})\n",
    "    .droplevel(0, axis=1)\n",
    "    .reset_index()\n",
    ")\n",
    "\n",
    "\n",
    "tmp = helpers.tensor_index_canton_year(\n",
    "    subside_per_m2_per_year,\n",
    "    subside_per_m2_per_year[\"Jahr Auszahlung 1\"].unique(),\n",
    "    None,\n",
    ")\n",
    "\n",
    "cols = [\"NAME\", \"size\", \"min\", \"max\", \"median\", \"Jahr Auszahlung 1\", \"geometry\"]\n",
    "data = (\n",
    "    helpers.merge_swiss_map(tmp)\n",
    "    .astype({\"min\": float, \"max\": float, \"median\": float})[cols]\n",
    "    .rename(columns={\"size\": \"n\", \"Jahr Auszahlung 1\": \"Year\", \"NAME\": \"Canton\"})\n",
    "    .copy()\n",
    ")\n",
    "\n",
    "fig = map_with_progress_bar(\n",
    "    data,\n",
    "    \"median\",\n",
    "    {\"min\": \":.2f\", \"max\": \":.2f\", \"n\": \":d\"},\n",
    "    width=None,\n",
    "    height=None,\n",
    "    vmax=120,\n",
    ")\n",
    "text_div = f\"Median subsidies/m2/Canton/per year for measure {measure}. Minimum and maximum subsidies/m2/Canton/per year as well as the number of supported measure (n) is given. The same scale is used across supported measures.\"\n",
    "map = helpers.add_legend_map(fig, text_div)\n",
    "helpers.save_map(f\"subside_per_m2_{measure}\", map)\n",
    "fig\n"
   ]
  },
  {
   "cell_type": "markdown",
   "metadata": {},
   "source": [
    "### Subsidy per capita\n",
    "Instead of looking at subsidies/m2/canton or subsidies/kW/canton, we check the subsidies/capita/canton"
   ]
  },
  {
   "cell_type": "code",
   "execution_count": null,
   "metadata": {},
   "outputs": [],
   "source": [
    "# Load population in each canton\n",
    "nb_hab_per_canton = helpers.get_nb_hab_per_canton()\n"
   ]
  },
  {
   "cell_type": "code",
   "execution_count": null,
   "metadata": {},
   "outputs": [],
   "source": [
    "# Compute the subsidies/capita/canton and the number of measures/capita/canton\n",
    "subside_per_canton_per_pop = (\n",
    "    m01_m07.groupby([\"Kanton\", \"Nr. HFM 2015\"])\n",
    "    .agg({\"Verpflichteter Beitrag\": [\"sum\", \"size\"]})\n",
    "    .droplevel(0, axis=1)\n",
    "    .reset_index()\n",
    ")\n",
    "# Set missing values where there is not supported measures\n",
    "subside_per_canton_per_pop.loc[subside_per_canton_per_pop[\"size\"] == 0, \"sum\"] = np.nan\n",
    "\n",
    "# Add the number of inhabitants in each canton\n",
    "subside_per_canton_per_pop = subside_per_canton_per_pop.merge(\n",
    "    nb_hab_per_canton, on=\"Kanton\"\n",
    ")\n",
    "\n",
    "# Divide the population size in each canton\n",
    "subside_per_canton_per_pop[\"Subsidies/capita\"] = (\n",
    "    subside_per_canton_per_pop[(\"sum\")] / subside_per_canton_per_pop[\"Pop\"]\n",
    ")\n",
    "\n",
    "# Total number of measures/capita\n",
    "subside_per_canton_per_pop[\"n/capita\"] = (\n",
    "    subside_per_canton_per_pop[(\"size\")] / subside_per_canton_per_pop[\"Pop\"] * 1000\n",
    ")\n",
    "subside_per_canton_per_pop = subside_per_canton_per_pop.rename(\n",
    "    columns={\"sum\": \"Subsides\", \"size\": \"n\"}\n",
    ")\n",
    "subside_per_canton_per_pop\n"
   ]
  },
  {
   "cell_type": "markdown",
   "metadata": {},
   "source": [
    "Plot the map (select measure between M-01,...,M-07)"
   ]
  },
  {
   "cell_type": "code",
   "execution_count": null,
   "metadata": {},
   "outputs": [],
   "source": [
    "measure = \"M-07\" # Select here the measure\n",
    "data = subside_per_canton_per_pop[subside_per_canton_per_pop[\"Nr. HFM 2015\"] == measure]\n",
    "\n",
    "data = helpers.merge_swiss_map(data, how=\"left\").astype({\"Subsidies/capita\": float})\n",
    "text_div = f\"Total subsidies/capita/Canton for measure {measure} over 5 years (2017-2021). Hovering over a canton gives also the total subsidies and the number of supported measures.\"\n",
    "\n",
    "map = single_map(\n",
    "    data,\n",
    "    \"Subsidies/capita\",\n",
    "    measure,\n",
    "    [\"Subsidies/capita\", \"Subsides\", \"n\", \"n/capita\"],\n",
    "    cols_hover_name=[\n",
    "        \"Total Subsidies/hab\",\n",
    "        \"Total subsides (CHF)\",\n",
    "        \"Number of supported measures\",\n",
    "        \"Number of supported measures/1000 hab.\",\n",
    "    ],\n",
    "    text_div=text_div,\n",
    "    vmax=134,\n",
    "    name_map=\"2017-2021\",\n",
    ")\n",
    "helpers.save_map(f\"subside_per_capita_entire_duration_{measure}\", map)\n",
    "map\n"
   ]
  },
  {
   "cell_type": "markdown",
   "metadata": {},
   "source": [
    "All supported measures together"
   ]
  },
  {
   "cell_type": "code",
   "execution_count": null,
   "metadata": {},
   "outputs": [],
   "source": [
    "# Compute the subsidies/canton (all measures combined)\n",
    "subside_per_canton_per_pop = (\n",
    "    db_with_terrain_class.groupby([\"Kanton\"])\n",
    "    .agg({\"Verpflichteter Beitrag\": [\"sum\", \"size\"]})\n",
    "    .droplevel(0, axis=1)\n",
    "    .reset_index()\n",
    ")\n",
    "# Add the number of inhabitants in each canton\n",
    "subside_per_canton_per_pop = subside_per_canton_per_pop.merge(\n",
    "    nb_hab_per_canton, on=\"Kanton\"\n",
    ")\n",
    "# Divide the population size in each canton\n",
    "subside_per_canton_per_pop[\"Subside/capita\"] = (\n",
    "    subside_per_canton_per_pop[\"sum\"] / subside_per_canton_per_pop[\"Pop\"]\n",
    ")\n",
    "subside_per_canton_per_pop = subside_per_canton_per_pop.rename(\n",
    "    columns={\"sum\": \"Subsides\", \"size\": \"n\"}\n",
    ")\n",
    "data = subside_per_canton_per_pop\n",
    "\n",
    "data = helpers.merge_swiss_map(data, how=\"left\").astype(\n",
    "    {\"Subside/capita\": float}\n",
    ") \n",
    "text_div = f\"Total subside/capita/Canton over 5 years (2017-2021) (all supported measures combined). Hovering over a canton gives also the total subsidy amount and the number of supported measures.\"\n",
    "\n",
    "map = single_map(\n",
    "    data,\n",
    "    \"Subside/capita\",\n",
    "    measure,\n",
    "    [\"Subside/capita\", \"Subsides\", \"n\"],\n",
    "    cols_hover_name=[\"Total Subsides/hab\", \"Total subsides (CHF)\", \"n\"],\n",
    "    text_div=text_div,\n",
    "    vmax=247,\n",
    "    caption=\"Subside/capita (all measures combined)\",\n",
    ")\n",
    "helpers.save_map(f\"subside_per_capita_entire_duration\", map)\n",
    "map\n"
   ]
  },
  {
   "cell_type": "markdown",
   "metadata": {},
   "source": [
    "## Efficiency/Canton"
   ]
  },
  {
   "cell_type": "markdown",
   "metadata": {},
   "source": [
    "In the previous section, we explore what is the amount of subsidy required to get the same power (or surface) in each canton and per year. However, we don't know if the supported measure is used.\n",
    "\n",
    "In this section, we compare the subsidy/m2 (or subsidy/kW depending on the selected measure), with the number of buildings that are renovated with the funds. The number of buildings is expressed in terms of number of rooms since a renovation might concern a small building as a large building. But both would count as 1, if we consider only the number of buildings."
   ]
  },
  {
   "cell_type": "markdown",
   "metadata": {},
   "source": [
    "We first need the number of rooms per buildings. This is found in the RegBL"
   ]
  },
  {
   "cell_type": "code",
   "execution_count": null,
   "metadata": {},
   "outputs": [],
   "source": [
    "# Load the regbl (all the buildings in CH)\n",
    "regbl = pd.read_pickle(os.path.join(preprocessed_folder, \"rebgl.pickle\")).astype(\n",
    "    {\"EGID\": \"Int64\"}\n",
    ")\n",
    "\n",
    "# Repeat some rows since some values of the EGID column of the db_with_terrain_class database contains multiple EGID in the same cell.\n",
    "db_with_terrain_class_exploded = helpers.explode_db(db_with_terrain_class)\n",
    "\n",
    "# Combine regbl with our database and identify which measure concerns which building.\n",
    "combined_regbl = pd.merge(regbl, db_with_terrain_class_exploded, on=\"EGID\", how=\"left\")\n",
    "\n",
    "combined_regbl = helpers.add_renov_indicator(combined_regbl)\n",
    "hab_to_keep = [\n",
    "    \"Usage d'habitation\",\n",
    "    \"Maison avec usage annexe\",\n",
    "    \"Part. à usage d'hab.\",\n",
    "    np.nan,\n",
    "]\n",
    "# Filter the data by keeping only existing buildings and those with habitation purpose\n",
    "combined_regbl_sub = combined_regbl[\n",
    "    (combined_regbl.Statut_bat == \"existant\")\n",
    "    & (combined_regbl.Cat_bat.isin(hab_to_keep))\n",
    "].copy()\n"
   ]
  },
  {
   "cell_type": "markdown",
   "metadata": {},
   "source": [
    "We consider the measure m-01 as an example"
   ]
  },
  {
   "cell_type": "code",
   "execution_count": null,
   "metadata": {},
   "outputs": [],
   "source": [
    "measure = \"M-01\"  # Change here if you want other measures\n",
    "ratio_all = []\n",
    "# Cumulative\n",
    "for year in range(2017, 2022):\n",
    "    ratio = helpers.precentage_renovated_rooms(\n",
    "        measure, combined_regbl_sub, year, cumul=True\n",
    "    )\n",
    "    ratio_all.append(ratio)\n",
    "ratio_cumul = pd.concat(ratio_all, axis=0)\n",
    "ratio_all = []\n",
    "# Not cumulative\n",
    "for year in range(2017, 2022):\n",
    "    ratio = helpers.precentage_renovated_rooms(\n",
    "        measure, combined_regbl_sub, year, cumul=False\n",
    "    )\n",
    "    ratio_all.append(ratio)\n",
    "ratio_per_year = pd.concat(ratio_all, axis=0)\n"
   ]
  },
  {
   "cell_type": "code",
   "execution_count": null,
   "metadata": {},
   "outputs": [],
   "source": [
    "def merge_ratio_db(db, ratio):\n",
    "    df = pd.merge(\n",
    "        db,\n",
    "        ratio.reset_index(),\n",
    "        left_on=[\"Jahr Auszahlung 1\", \"Kanton\"],\n",
    "        right_on=[\"year\", \"Canton\"],\n",
    "    )\n",
    "    cols = [\"min\", \"max\", \"median\", \"size\", \"renov_rooms\"]\n",
    "    # Workaround: such that the missing values do not appear on the plot\n",
    "    df[cols] = df[cols].fillna(-1000)\n",
    "    df = pd.merge(\n",
    "        df, helpers.get_nb_hab_per_canton(), on=\"Kanton\", how=\"left\"\n",
    "    ).sort_values(\"Jahr Auszahlung 1\")\n",
    "    df = df.sort_values([\"Kanton\", \"Jahr Auszahlung 1\"])\n",
    "    return df\n",
    "\n",
    "\n",
    "sub_tmp = subside_per_kw_per_year[subside_per_kw_per_year[\"Nr. HFM 2015\"] == measure]\n",
    "data = subside_per_m2_per_year if measure == \"M-01\" else sub_tmp\n",
    "d_min = data[\"median\"].min()\n",
    "df1 = merge_ratio_db(data, ratio_cumul)\n",
    "df2 = merge_ratio_db(data, ratio_per_year)\n"
   ]
  },
  {
   "cell_type": "markdown",
   "metadata": {},
   "source": [
    "Generate image"
   ]
  },
  {
   "cell_type": "code",
   "execution_count": null,
   "metadata": {},
   "outputs": [],
   "source": [
    "import plotly.express as px\n",
    "\n",
    "cumul = \"Cumulative\"  # To change if needed, either Cumulative or \"\"\n",
    "\n",
    "\n",
    "unit = \"m2\"\n",
    "if measure != \"M-01\":\n",
    "    unit = \"kW\"\n",
    "if cumul == \"Cumulative\":\n",
    "    df = df1\n",
    "    if measure != \"M-01\":\n",
    "        unit = \"kW\"\n",
    "    msg = f\"Efficiency of the supported measure {measure}. <br>Gives the (median) subsidy/{unit} over time and the proportion of renovated habitable buildings (expressed in number of rooms) in each canton.\"\n",
    "else:\n",
    "    df = df2\n",
    "    msg = f\"Efficiency of the supported measure {measure}. <br>Gives the (median) subsidy/{unit} over time and the renovation rate /year (expressed in number of rooms of habitable buildings/year) in each canton.\"\n",
    "\n",
    "\n",
    "fig = px.scatter(\n",
    "    df,\n",
    "    \"median\",\n",
    "    \"renov_rooms\",\n",
    "    \"Kanton\",\n",
    "    size=\"Pop\",\n",
    "    size_max=55,\n",
    "    animation_frame=\"year\",\n",
    "    range_x=[d_min / 1.1, df[\"median\"].max() * 1.1],\n",
    "    range_y=[0, df[\"renov_rooms\"].max() * 1.1],\n",
    "    height=800,\n",
    "    labels={\n",
    "        \"median\": f\"Median subsidies/{unit}\",\n",
    "        \"renov_rooms\": \"Percentage of rooms that <br>are concerned by the measure since 2017\"\n",
    "        if cumul == \"Cumulative\"\n",
    "        else \"Percentage of rooms that <br>are concerned by the measure per year\",\n",
    "        \"Kanton\": \"Canton\",\n",
    "        \"Pop\": \"Poluation size\",\n",
    "    },\n",
    "    title=msg,\n",
    "    category_orders={\"year\": [2017, 2018, 2019, 2020, 2021]},\n",
    ")\n",
    "fig.write_html(\n",
    "    os.path.join(\"../figure\", f\"subside_{measure}_per_canton_{cumul}.html\"),\n",
    "    include_plotlyjs=\"cdn\",\n",
    ")\n",
    "fig\n"
   ]
  },
  {
   "cell_type": "code",
   "execution_count": null,
   "metadata": {},
   "outputs": [],
   "source": []
  }
 ],
 "metadata": {
  "kernelspec": {
   "display_name": "Python 3.10.4 ('test')",
   "language": "python",
   "name": "python3"
  },
  "language_info": {
   "codemirror_mode": {
    "name": "ipython",
    "version": 3
   },
   "file_extension": ".py",
   "mimetype": "text/x-python",
   "name": "python",
   "nbconvert_exporter": "python",
   "pygments_lexer": "ipython3",
   "version": "3.10.8"
  },
  "orig_nbformat": 4,
  "vscode": {
   "interpreter": {
    "hash": "97e1d25581a04eac12591ae2002b5202d82171b363b803c6e671956903272463"
   }
  }
 },
 "nbformat": 4,
 "nbformat_minor": 2
}
