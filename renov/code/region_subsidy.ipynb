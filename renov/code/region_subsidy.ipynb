{
 "cells": [
  {
   "cell_type": "markdown",
   "metadata": {},
   "source": [
    "# Analysis\n",
    "We first load the data saved in the preprocessing steps."
   ]
  },
  {
   "cell_type": "code",
   "execution_count": null,
   "metadata": {},
   "outputs": [],
   "source": [
    "import pandas as pd\n",
    "import os\n",
    "import seaborn as sns\n",
    "import numpy as np\n",
    "import matplotlib.pyplot as plt\n",
    "import helpers\n",
    "from settings import data_folder, preprocessed_folder\n",
    "%load_ext autoreload\n",
    "%autoreload 2\n",
    "\n",
    "helpers.set_plotting() "
   ]
  },
  {
   "cell_type": "code",
   "execution_count": null,
   "metadata": {},
   "outputs": [],
   "source": [
    "measure_name = [\n",
    "    \"Envelope \\nrenovation (M-01)\",\n",
    "    \"Wood/pellets\\nheating (M-02)\",\n",
    "    \"Wood heating\\n <70kW (M-03)\",\n",
    "    \"Wood heating\\n >70kW (M-04)\",\n",
    "    \"Air/water heat \\npump (M-05)\",\n",
    "    \"Elec. heat \\npump (M-06)\",\n",
    "    \"Connection to dec.\\n heating (M-07)\",\n",
    "]\n",
    "# Load database\n",
    "db_with_terrain_class = helpers.load_database()\n"
   ]
  },
  {
   "cell_type": "markdown",
   "metadata": {},
   "source": [
    "Number of renovations per measures (according to Nr. HFM 2015)"
   ]
  },
  {
   "cell_type": "code",
   "execution_count": null,
   "metadata": {},
   "outputs": [],
   "source": [
    "db_with_terrain_class.groupby(\"Nr. HFM 2015\").apply(len).plot(kind=\"bar\")\n",
    "plt.ylabel(\"Number of supported measures\")\n",
    "helpers.save(\"nb_measures\")\n"
   ]
  },
  {
   "cell_type": "markdown",
   "metadata": {},
   "source": [
    "# Which regions get most of the subisidies?\n",
    "\n",
    "We are interested to which region (urban/rural/alpine/intermediate) gets the largest amount of subsidy. We split the analysis into two parts:\n",
    "\n",
    "- The building envelope renovation: it corresponds to the measure M-01\n",
    "- The heating system replacement: it corresponds to the measures M-02, ..., M-07. For this analysis, we don't distinguish these measures.\n",
    "## Building envelope renovation\n",
    "\n",
    "We first start with the number of supported renovation in each region for the measure M-01."
   ]
  },
  {
   "cell_type": "code",
   "execution_count": null,
   "metadata": {},
   "outputs": [],
   "source": [
    "# Only measure M-01\n",
    "m01 = db_with_terrain_class[db_with_terrain_class[\"Nr. HFM 2015\"] == \"M-01\"].copy()\n",
    "\n",
    "per_region = m01.groupby([\"Alpine\", \"Typology\"])[\"Nr. HFM 2015\"].size().reset_index()\n",
    "per_region = per_region.pivot_table(\n",
    "    columns=\"Typology\", index=\"Alpine\", values=\"Nr. HFM 2015\"\n",
    ").reindex(columns=[\"Rural\", \"Intermediate\", \"Urban\"])\n",
    "# Plotting\n",
    "ax = per_region.plot(kind=\"bar\", ylabel=\"Number of building renovation (M-01)\")\n",
    "helpers.set_ylim(ax, ymax=14000)\n",
    "helpers.save(\"nb_alpine_type\")\n"
   ]
  },
  {
   "cell_type": "markdown",
   "metadata": {},
   "source": [
    "and its progression over years. The number of supported buildings envelope renovations increase until 2019 and reach a plateau after that year."
   ]
  },
  {
   "cell_type": "code",
   "execution_count": null,
   "metadata": {},
   "outputs": [],
   "source": [
    "per_region_year = (\n",
    "    m01.groupby([\"Alpine\", \"Typology\", \"Jahr Auszahlung 1\"])\n",
    "    .size()\n",
    "    .reset_index()\n",
    "    .rename(\n",
    "        columns={\"Jahr Auszahlung 1\": \"Year\", 0: \"Building envelope renovation (M-01)\"}\n",
    "    )\n",
    ")\n",
    "# Convert to Year\n",
    "per_region_year[\"Year\"] = pd.to_datetime(\n",
    "    per_region_year[\"Year\"], format=\"%Y\"\n",
    ").dt.strftime(\"%Y\")\n",
    "hue_order = [\"Rural\", \"Intermediate\", \"Urban\"]\n",
    "\n",
    "# Plotting\n",
    "g = sns.relplot(\n",
    "    kind=\"line\",\n",
    "    x=\"Year\",\n",
    "    y=\"Building envelope renovation (M-01)\",\n",
    "    data=per_region_year,\n",
    "    hue=\"Typology\",\n",
    "    col=\"Alpine\",\n",
    "    hue_order=hue_order,\n",
    "    height=6,\n",
    ")\n",
    "helpers.set_ylim(g, ymax=4500, seaborn=True)\n",
    "helpers.save(\"nb_alpine_type_peryear\")\n"
   ]
  },
  {
   "cell_type": "markdown",
   "metadata": {},
   "source": [
    "## Heating system replacement"
   ]
  },
  {
   "cell_type": "markdown",
   "metadata": {},
   "source": [
    "We perform the same analysis for the measures M-02,...,M-07. "
   ]
  },
  {
   "cell_type": "code",
   "execution_count": null,
   "metadata": {},
   "outputs": [],
   "source": [
    "# Only measures M-02,...,M-07\n",
    "heating_codes = [\"M-02\", \"M-03\", \"M-04\", \"M-05\", \"M-06\", \"M-07\"]\n",
    "m02_m07 = db_with_terrain_class[\n",
    "    db_with_terrain_class[\"Nr. HFM 2015\"].isin(heating_codes)\n",
    "].copy()\n",
    "\n",
    "per_region = m02_m07.groupby([\"Alpine\", \"Typology\"]).apply(len).reset_index()\n",
    "# Plotting\n",
    "ax = (\n",
    "    per_region.pivot_table(columns=\"Typology\", index=\"Alpine\", values=0)\n",
    "    .reindex(columns=[\"Rural\", \"Intermediate\", \"Urban\"])\n",
    "    .plot(kind=\"bar\", ylabel=\"Renovated heating system (M-02,...,M-07)\")\n",
    ")\n",
    "helpers.set_ylim(ax, ymax=14000)\n",
    "helpers.save(\"subside_heating_alpine_type\")\n"
   ]
  },
  {
   "cell_type": "markdown",
   "metadata": {},
   "source": [
    "The progression over the years shows an exponential increase of the number of supported measures concerning the replacement of heating systems. This progression is observed in all regions."
   ]
  },
  {
   "cell_type": "code",
   "execution_count": null,
   "metadata": {},
   "outputs": [],
   "source": [
    "per_region_year = (\n",
    "    m02_m07.groupby([\"Alpine\", \"Typology\", \"Jahr Auszahlung 1\"])\n",
    "    .size()\n",
    "    .reset_index()\n",
    "    .rename(\n",
    "        columns={\n",
    "            \"Jahr Auszahlung 1\": \"Year\",\n",
    "            0: \"Number of renovated heating system (M-02,...,M-07)\",\n",
    "        }\n",
    "    )\n",
    ")\n",
    "# Convert to Year\n",
    "per_region_year[\"Year\"] = pd.to_datetime(\n",
    "    per_region_year[\"Year\"], format=\"%Y\"\n",
    ").dt.strftime(\"%Y\")\n",
    "hue_order = [\"Rural\", \"Intermediate\", \"Urban\"]\n",
    "# Plotting\n",
    "g = sns.relplot(\n",
    "    kind=\"line\",\n",
    "    x=\"Year\",\n",
    "    y=\"Number of renovated heating system (M-02,...,M-07)\",\n",
    "    data=per_region_year,\n",
    "    hue=\"Typology\",\n",
    "    col=\"Alpine\",\n",
    "    hue_order=hue_order,\n",
    "    height=6,\n",
    ")\n",
    "helpers.set_ylim(g, ymax=4500, seaborn=True)\n",
    "helpers.save(\"nb_heating_alpine_type_peryear\")\n"
   ]
  },
  {
   "cell_type": "markdown",
   "metadata": {},
   "source": [
    "## Relative numbers\n",
    "The previous analysis gives the number in absolute. Obviously, the number of supported measures is expected to be higher in urban region, where the population is larger. Visualising the relative number per capita can provide additional informations. See ['additional plot'](#Additional-plots) at the end of the notebook for a deeper analysis."
   ]
  },
  {
   "cell_type": "code",
   "execution_count": null,
   "metadata": {},
   "outputs": [],
   "source": [
    "# Get the number of inhabitants/region\n",
    "hab_alpin_typ_sum = helpers.get_nb_hab_per_region()\n",
    "hab_alpin_typ_sum\n"
   ]
  },
  {
   "cell_type": "markdown",
   "metadata": {},
   "source": [
    "### Envelope renovation\n",
    "We first consider the measure M-01"
   ]
  },
  {
   "cell_type": "code",
   "execution_count": null,
   "metadata": {},
   "outputs": [],
   "source": [
    "# Compute the ratio\n",
    "per_region_per_hab = (\n",
    "    m01.groupby([\"Alpine\", \"Typology\"]).apply(len) / hab_alpin_typ_sum\n",
    ").reset_index()\n",
    "# Reshaping data\n",
    "per_region_per_hab = per_region_per_hab.pivot_table(\n",
    "    columns=\"Typology\", index=\"Alpine\", values=0\n",
    ").reindex(columns=[\"Rural\", \"Intermediate\", \"Urban\"])\n",
    "# Plotting\n",
    "ax = per_region_per_hab.plot(kind=\"bar\",figsize=(10,6))\n",
    "helpers.set_ylim(ax, 0.008)\n",
    "helpers.set_title(\n",
    "    \"# re-insulated buildings/capita\", size=24\n",
    ")\n",
    "helpers.save(\"nb_alpine_type_per_capita\")\n"
   ]
  },
  {
   "cell_type": "markdown",
   "metadata": {},
   "source": [
    "### Heating system\n",
    "We consider the measures M-02,...,M-07"
   ]
  },
  {
   "cell_type": "code",
   "execution_count": null,
   "metadata": {},
   "outputs": [],
   "source": [
    "# Compute the ratio\n",
    "per_region = (\n",
    "    m02_m07.groupby([\"Alpine\", \"Typology\"]).apply(len) / hab_alpin_typ_sum\n",
    ").reset_index()\n",
    "# Reshaping data\n",
    "per_region = per_region.pivot_table(\n",
    "    columns=\"Typology\", index=\"Alpine\", values=0\n",
    ").reindex(columns=[\"Rural\", \"Intermediate\", \"Urban\"])\n",
    "# Plotting\n",
    "ax = per_region.plot(kind=\"bar\")\n",
    "helpers.set_ylim(ax, 0.008)\n",
    "helpers.set_label(ylabel=\"Renovated heating system per capita (M-02,...,M-07)\", size=14)\n",
    "helpers.save(\"nb_heating_alpine_type_per_capita\")\n"
   ]
  },
  {
   "cell_type": "markdown",
   "metadata": {},
   "source": [
    "# Additional plots "
   ]
  },
  {
   "cell_type": "markdown",
   "metadata": {},
   "source": [
    "We check if the plots obtained in the first part change if we consider the number of rooms rather than the number of buildings. This analysis might take into account that the renovated buildings are larger in urban locations. "
   ]
  },
  {
   "cell_type": "code",
   "execution_count": null,
   "metadata": {},
   "outputs": [],
   "source": [
    "# Load the regbl (all the buildings in CH)\n",
    "regbl = pd.read_pickle(os.path.join(preprocessed_folder, \"rebgl.pickle\")).astype(\n",
    "    {\"EGID\": \"Int64\"}\n",
    ")\n",
    "\n",
    "# Repeat some rows since some values of the EGID column of the db_with_terrain_class database contains multiple EGID in the same cell.\n",
    "db_with_terrain_class_exploded = helpers.explode_db(db_with_terrain_class)\n",
    "\n",
    "# Combine regbl with our database and identify which buildings have done which measure.\n",
    "combined_regbl = pd.merge(regbl, db_with_terrain_class_exploded, on=\"EGID\", how=\"left\")\n",
    "\n",
    "combined_regbl = helpers.add_renov_indicator(combined_regbl)\n",
    "list_considered_buildings = [\n",
    "    \"Usage d'habitation\",\n",
    "    \"Maison avec usage annexe\",\n",
    "    \"Part. à usage d'hab.\",\n",
    "    np.nan,\n",
    "]\n",
    "# Filter the data by keeping only existing buildings and those with habitation purpose\n",
    "combined_regbl_sub = combined_regbl[\n",
    "    (combined_regbl.Statut_bat == \"existant\")\n",
    "    & (combined_regbl.Cat_bat.isin(list_considered_buildings))\n",
    "].copy()\n"
   ]
  },
  {
   "cell_type": "markdown",
   "metadata": {},
   "source": [
    "We observe that buildings in urban areas have more rooms. Hence, the rate of supported measure (expressed in rooms)/capita is largest in urban area."
   ]
  },
  {
   "cell_type": "code",
   "execution_count": null,
   "metadata": {},
   "outputs": [],
   "source": [
    "measure = \"M-01\"\n",
    "ratio = False  # to change to True to get the number per capita\n",
    "nb_renovated_rooms = (\n",
    "    combined_regbl_sub.groupby([\"Alpine\", \"Typology\", measure])\n",
    "    .WAZIM.sum()\n",
    "    .reset_index()\n",
    ")\n",
    "\n",
    "per_region = (\n",
    "    nb_renovated_rooms[nb_renovated_rooms[measure] == 1]\n",
    "    .drop(columns=[measure])\n",
    "    .set_index([\"Alpine\", \"Typology\"])\n",
    ")\n",
    "if ratio:\n",
    "    per_hab = per_region.div(hab_alpin_typ_sum, axis=0)\n",
    "    ylabel=\"Number of building envelope renovations (M-01)\\n expressed in rooms per capita\"\n",
    "    ylabel=\"# re-insulated rooms/capita\"\n",
    "else:\n",
    "    per_hab = per_region\n",
    "    ylabel=\"Number of building envelope renovations (M-01)\\n expressed in rooms\"\n",
    "    \n",
    "# Reshape data    \n",
    "per_region = per_hab.pivot_table(\n",
    "    columns=\"Typology\", index=\"Alpine\", values=\"WAZIM\"\n",
    ").reindex(columns=[\"Rural\", \"Intermediate\", \"Urban\"])\n",
    "sns.set(font_scale=2)\n",
    "ax = per_region.plot(\n",
    "    kind=\"bar\", title=ylabel\n",
    ")\n",
    "if not ratio:\n",
    "    helpers.set_ylim(ax, ymax=220000)\n",
    "if not ratio:\n",
    "    helpers.save(\"nb_insulatedroom\")\n",
    "else:\n",
    "    helpers.save(\"nb_insulatedroom_per_capita\")"
   ]
  },
  {
   "cell_type": "markdown",
   "metadata": {},
   "source": [
    "We compute the same quantity for the heating system replacement"
   ]
  },
  {
   "cell_type": "code",
   "execution_count": null,
   "metadata": {},
   "outputs": [],
   "source": [
    "measure = \"Heating_renov\"\n",
    "nb_renovated_rooms = (\n",
    "    combined_regbl_sub.groupby([\"Alpine\", \"Typology\", measure])\n",
    "    .WAZIM.sum()\n",
    "    .reset_index()\n",
    ")\n",
    "ratio = False  # to change to get the number per capita\n",
    "per_region = (\n",
    "    nb_renovated_rooms[nb_renovated_rooms[measure] == 1]\n",
    "    .drop(columns=[measure])\n",
    "    .set_index([\"Alpine\", \"Typology\"])\n",
    ")\n",
    "if ratio:\n",
    "    per_hab = per_region.div(hab_alpin_typ_sum, axis=0)\n",
    "    ylabel=\"Renovated heating system (M-02,...,M-07)\\n expressed in rooms per capita\"\n",
    "else:\n",
    "    per_hab = per_region\n",
    "    ylabel=\"Renovated heating system (M-02,...,M-07)\\n expressed in rooms\"\n",
    "    \n",
    "# Reshape data    \n",
    "per_region = per_hab.pivot_table(\n",
    "    columns=\"Typology\", index=\"Alpine\", values=\"WAZIM\"\n",
    ").reindex(columns=[\"Rural\", \"Intermediate\", \"Urban\"])\n",
    "\n",
    "ax = per_region.plot(\n",
    "    kind=\"bar\", title=ylabel\n",
    ")\n",
    "if not ratio:\n",
    "    helpers.set_ylim(ax, ymax=100000)\n",
    "if not ratio:\n",
    "    helpers.save(\"nb_renov_per_room\")\n",
    "else:\n",
    "    helpers.save(\"nb_renov_per_room_per_capita\")"
   ]
  },
  {
   "cell_type": "code",
   "execution_count": null,
   "metadata": {},
   "outputs": [],
   "source": []
  }
 ],
 "metadata": {
  "kernelspec": {
   "display_name": "Python 3.10.4 ('test')",
   "language": "python",
   "name": "python3"
  },
  "language_info": {
   "codemirror_mode": {
    "name": "ipython",
    "version": 3
   },
   "file_extension": ".py",
   "mimetype": "text/x-python",
   "name": "python",
   "nbconvert_exporter": "python",
   "pygments_lexer": "ipython3",
   "version": "3.10.8"
  },
  "orig_nbformat": 4,
  "vscode": {
   "interpreter": {
    "hash": "97e1d25581a04eac12591ae2002b5202d82171b363b803c6e671956903272463"
   }
  }
 },
 "nbformat": 4,
 "nbformat_minor": 2
}
