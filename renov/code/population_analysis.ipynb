{
 "cells": [
  {
   "cell_type": "markdown",
   "metadata": {},
   "source": [
    "# Analysis\n",
    "We first load the data saved in the preprocessing steps."
   ]
  },
  {
   "cell_type": "code",
   "execution_count": null,
   "metadata": {},
   "outputs": [],
   "source": [
    "import pandas as pd\n",
    "import os\n",
    "import seaborn as sns\n",
    "import numpy as np\n",
    "import matplotlib.pyplot as plt\n",
    "from plot_maps import single_map,map_with_progress_bar\n",
    "import helpers\n",
    "import statsmodels.api as sm\n",
    "from settings import data_folder, preprocessed_folder\n",
    "\n",
    "%load_ext autoreload\n",
    "%autoreload 2\n",
    "\n",
    "helpers.set_plotting() "
   ]
  },
  {
   "cell_type": "code",
   "execution_count": null,
   "metadata": {},
   "outputs": [],
   "source": [
    "measure_name = [\n",
    "    \"Envelope \\nrenovation (M-01)\",\n",
    "    \"Wood/pellets\\nheating (M-02)\",\n",
    "    \"Wood heating\\n <70kW (M-03)\",\n",
    "    \"Wood heating\\n >70kW (M-04)\",\n",
    "    \"Air/water heat \\npump (M-05)\",\n",
    "    \"Elec. heat \\npump (M-06)\",\n",
    "    \"Connection to dec.\\n heating (M-07)\",\n",
    "]\n",
    "\n",
    "db_with_terrain_class = helpers.load_database()\n"
   ]
  },
  {
   "cell_type": "markdown",
   "metadata": {},
   "source": [
    "# Which Population benefits most from subsidies? "
   ]
  },
  {
   "cell_type": "markdown",
   "metadata": {},
   "source": [
    "In this section, we attempt to characterize the persons that are asking for subsidies. Since we don't have any information about the persons carrying out the renovations, we use the information at the municipality level."
   ]
  },
  {
   "cell_type": "markdown",
   "metadata": {},
   "source": [
    "### First approach\n",
    "We use a t-test to compare the population to the national average."
   ]
  },
  {
   "cell_type": "code",
   "execution_count": null,
   "metadata": {},
   "outputs": [],
   "source": [
    "# Features that are used\n",
    "columns_pop_group = [\n",
    "    \"Population - Part du groupe d'âge 20-64 ans\",\n",
    "    \"Population - Part du groupe d'âge 65+ ans\",\n",
    "    \"Population - Taille moyenne des ménages\",\n",
    "    \"Population - Etrangers\",\n",
    "    \"Taux d'aide sociale\",\n",
    "]\n",
    "combined = helpers.add_socio_economic_features(db_with_terrain_class)\n",
    "combined\n"
   ]
  },
  {
   "cell_type": "code",
   "execution_count": null,
   "metadata": {},
   "outputs": [],
   "source": [
    "socio_features_avg_ch = helpers.get_economic_features(\"CH\")\n",
    "fig, ax = plt.subplots(figsize=(10, 10))\n",
    "tmp = combined[columns_pop_group]\n",
    "mean_ch = socio_features_avg_ch[columns_pop_group].to_numpy().reshape(-1)\n",
    "# Compute t-test\n",
    "t_test = (tmp.mean() - mean_ch) / tmp.std()\n",
    "sns.barplot(\n",
    "    data=t_test.to_frame(\"value\").reset_index(),\n",
    "    x=\"index\",\n",
    "    y=\"value\",\n",
    "    order=columns_pop_group,\n",
    "    ax=ax,\n",
    ")\n",
    "helpers.set_label(xlabel=\"Variable\", ylabel=\"T-test\")\n",
    "plt.xticks(rotation=70)\n",
    "helpers.save(\"pop_subside\")\n"
   ]
  },
  {
   "cell_type": "markdown",
   "metadata": {},
   "source": [
    "We compute the t-test for each measure."
   ]
  },
  {
   "cell_type": "code",
   "execution_count": null,
   "metadata": {},
   "outputs": [],
   "source": [
    "fig, ax = plt.subplots(figsize=(20, 10))\n",
    "tmp = combined[columns_pop_group + [\"Nr. HFM 2015\"]].groupby(\"Nr. HFM 2015\")\n",
    "mean_ch = socio_features_avg_ch[columns_pop_group].to_numpy()\n",
    "t_test = (tmp.mean() - mean_ch) / tmp.std()\n",
    "t_test = t_test.loc[[\"M-01\", \"M-02\", \"M-03\", \"M-04\", \"M-05\", \"M-06\", \"M-07\"]]\n",
    "sns.barplot(\n",
    "    data=pd.melt(t_test, ignore_index=False).reset_index(),\n",
    "    x=\"Nr. HFM 2015\",\n",
    "    y=\"value\",\n",
    "    hue=\"variable\",\n",
    "    hue_order=columns_pop_group,\n",
    "    ax=ax,\n",
    ")\n",
    "helpers.set_label(ylabel=\"T-test\")\n",
    "ax.legend(bbox_to_anchor=(1.01, 0.6))\n",
    "helpers.save(\"pop_subside_permeasure\")\n"
   ]
  },
  {
   "cell_type": "markdown",
   "metadata": {},
   "source": [
    "### Second approach: classification"
   ]
  },
  {
   "cell_type": "markdown",
   "metadata": {},
   "source": [
    "We approach the problem as a classification problem, where we need to classify two population groups\n",
    "- the persons who asked for a subsidy,\n",
    "- the remaining persons (include persons that haven't done any renovations and those who have done a renovation, but didn't ask for subsidies).\n",
    "\n",
    "**Caveats**: Since we only have information at the municipality (we don't have any info on the persons asking for a subsidy), we aggregate the data at the municipality level. An inherent hypothesis is that the population of a given municipality share all the same profile. Also we assume that the features of the building does not impact the decision of getting or not a subsidy."
   ]
  },
  {
   "cell_type": "markdown",
   "metadata": {},
   "source": [
    "The regBL is used to get the whole list of buildings in Switzerland. We only consider the buildings that are used as houses purposes "
   ]
  },
  {
   "cell_type": "code",
   "execution_count": null,
   "metadata": {},
   "outputs": [],
   "source": [
    "# Load the regbl (all the buildings in CH)\n",
    "regbl = pd.read_pickle(os.path.join(preprocessed_folder, \"rebgl.pickle\")).astype(\n",
    "    {\"EGID\": \"Int64\"}\n",
    ")\n",
    "\n",
    "# Repeat some rows since some values of the EGID column of the db_with_terrain_class database contains multiple EGID in the same cell.\n",
    "db_with_terrain_class_exploded = helpers.explode_db(db_with_terrain_class)\n",
    "\n",
    "# Combine regbl with our database and identify which buildings have done which measure.\n",
    "combined_regbl = pd.merge(regbl, db_with_terrain_class_exploded, on=\"EGID\", how=\"left\")\n",
    "\n",
    "combined_regbl = helpers.add_renov_indicator(combined_regbl)\n",
    "hab_to_keep = [\n",
    "    \"Usage d'habitation\",\n",
    "    \"Maison avec usage annexe\",\n",
    "    \"Part. à usage d'hab.\",\n",
    "    np.nan,\n",
    "]\n",
    "# Filter the data by keeping only existing buildings and those with habitation purpose\n",
    "combined_regbl_sub = combined_regbl[\n",
    "    (combined_regbl.Statut_bat == \"existant\")\n",
    "    & (combined_regbl.Cat_bat.isin(hab_to_keep))\n",
    "].copy()"
   ]
  },
  {
   "cell_type": "code",
   "execution_count": null,
   "metadata": {},
   "outputs": [],
   "source": [
    "use_rooms=False\n",
    "measure_columns=['renov', 'Envelope_renov',\n",
    "       'Heating_renov', 'M-01', 'M-02', 'M-03', 'M-04', 'M-05', 'M-06',\n",
    "       'M-07', 'M-08', 'M-09', 'M-10', 'M-11', 'M-12', 'M-13', 'M-14', 'M-15',\n",
    "       'M-16', 'M-17', 'M-18',\"ones\"]\n",
    "if use_rooms:\n",
    "    combined_regbl_sub=combined_regbl_sub.dropna(subset=\"WAZIM\").reset_index(drop=True)\n",
    "    combined_regbl_sub[measure_columns]*=combined_regbl_sub.WAZIM.to_numpy().reshape(-1,1)"
   ]
  },
  {
   "cell_type": "code",
   "execution_count": null,
   "metadata": {},
   "outputs": [],
   "source": [
    "# Load economic features and add if the municipalitiy is alpine and the topology\n",
    "hab_alpin_typ = helpers.add_alpin_topo(\n",
    "    helpers.get_economic_features(\"commune\"), \"BFS_NUMMER\"\n",
    ")\n",
    "hab_alpin_typ\n"
   ]
  },
  {
   "cell_type": "markdown",
   "metadata": {},
   "source": [
    "Aggregate data/municipality"
   ]
  },
  {
   "cell_type": "code",
   "execution_count": null,
   "metadata": {},
   "outputs": [],
   "source": [
    "combined_regbl_sub[\"Bois\"] = combined_regbl_sub[[\"M-02\", \"M-03\", \"M-04\"]].max(axis=1)\n",
    "combined_regbl_sub[\"Heatpump\"] = combined_regbl_sub[[\"M-05\", \"M-06\"]].max(axis=1)\n",
    "combined_regbl_sub[\"Epoque_constr_agg\"] = combined_regbl_sub.Epoque_constr.replace(\n",
    "    {\n",
    "        \"Avant 1919\": \"<1960\",\n",
    "        \"1919-1945\": \"<1960\",\n",
    "        \"1971-1980\": \"1961-2000\",\n",
    "        \"1946-1960\": \"<1960\",\n",
    "        \"1961-1970\": \"1961-2000\",\n",
    "        \"1986-1990\": \"1961-2000\",\n",
    "        \"1996-2000\": \"1961-2000\",\n",
    "        \"1981-1985\": \"1961-2000\",\n",
    "        \"2006-2010\": \">2000\",\n",
    "        \"1991-1995\": \"1961-2000\",\n",
    "        \"2001-2005\": \">2000\",\n",
    "        \"> 2015\": \">2000\",\n",
    "        \"2011-2015\": \">2000\",\n",
    "    }\n",
    ")\n",
    "only_individual = False  # To change to True if only individual buildings\n",
    "if only_individual:\n",
    "    combined_regbl_sub_ = combined_regbl_sub[\n",
    "        combined_regbl_sub.Classe_bat.isin(\n",
    "            [\"Maison individuelle\", \"Maison à 2 logements\"]\n",
    "        )\n",
    "    ]\n",
    "else:\n",
    "    combined_regbl_sub_ = combined_regbl_sub\n",
    "\n",
    "epoque = None  # To change to \"<1960\",\"1961-2000\",\">2000\" to specific buildings\n",
    "if epoque is None:\n",
    "    combined_regbl_sub_ = combined_regbl_sub\n",
    "else:\n",
    "    assert epoque in [\"<1960\", \"1961-2000\", \">2000\"]\n",
    "    combined_regbl_sub_ = combined_regbl_sub[\n",
    "        combined_regbl_sub[\"Epoque_constr_agg\"] == epoque\n",
    "    ]\n",
    "statistics = [\"sum\"]\n",
    "prop_subsidy_per_municipality = combined_regbl_sub_.groupby([\"BFS_NUMBER\"]).agg(\n",
    "    {\n",
    "        \"renov\": statistics,\n",
    "        \"Envelope_renov\": statistics,\n",
    "        \"Heating_renov\": statistics,\n",
    "        \"M-07\": statistics,\n",
    "        \"Bois\": statistics,\n",
    "        \"Heatpump\": statistics,\n",
    "        \"ones\": statistics,\n",
    "    }\n",
    ")\n",
    "\n",
    "nb_renovation = prop_subsidy_per_municipality.xs(\"sum\", level=1, axis=1).drop(columns=\"ones\")\n",
    "total_building=prop_subsidy_per_municipality[(\"ones\",\"sum\")].to_numpy().reshape(-1,1)\n",
    "prop_subsidy_per_municipality = pd.merge(\n",
    "    nb_renovation,\n",
    "    total_building - nb_renovation,\n",
    "    left_index=True,\n",
    "    right_index=True,\n",
    ")\n",
    "# Doesn't exist\n",
    "prop_subsidy_per_municipality = prop_subsidy_per_municipality.drop(\n",
    "    [\"2391\", \"5391\"]\n",
    ").astype(int)  \n",
    "prop_subsidy_per_municipality\n"
   ]
  },
  {
   "cell_type": "markdown",
   "metadata": {},
   "source": [
    "### Run the models\n",
    "We first run the model on building envelope renovations "
   ]
  },
  {
   "cell_type": "code",
   "execution_count": null,
   "metadata": {},
   "outputs": [],
   "source": [
    "y = prop_subsidy_per_municipality[[\"Envelope_renov_x\", \"Envelope_renov_y\"]]\n",
    "y.index = y.index.astype(\"Int64\")\n",
    "cols = [\n",
    "    \"BFS_NUMMER\",\n",
    "    \"Population - Habitants\",\n",
    "    \"Population - Part du groupe d'âge 65+ ans\",\n",
    "    \"Population - Etrangers\",\n",
    "    \"Population - Taux brut de natalité\",\n",
    "    \"Population - Taille moyenne des ménages\",\n",
    "    \"Construction, logement - Nouveaux logements construits\",\n",
    "    \"Economie - Emplois dans le secteur primaire\",\n",
    "    \"Economie - Emplois dans le secteur secondaire\",\n",
    "    \"Economie - Emplois dans le secteur tertiaire\",\n",
    "    \"Taux d'aide sociale\",\n",
    "    \"Revenu imposable par contribuable, en francs\",\n",
    "    \"Alpine\",\n",
    "    \"Typology\",\n",
    "]\n",
    "# Check topology of municipality\n",
    "X = hab_alpin_typ[cols].set_index(\"BFS_NUMMER\").loc[y.index].copy()\n",
    "# Center the data with the national average\n",
    "mean = socio_features_avg_ch[cols[:-2]].drop(columns=\"BFS_NUMMER\")\n",
    "X = helpers.build_design_matrix(X, mean)\n",
    "\n",
    "# Possible outliers\n",
    "# X=X.drop([\"2701\",\"351\",\"5409\",\"5194\",\"261\",\"5872\",\"3506\",\"371\",\"6421\"])\n",
    "# y=y.drop([\"2701\",\"351\",\"5409\",\"5194\",\"261\",\"5872\",\"3506\",\"371\",\"6421\"])\n",
    "\n",
    "bin = sm.families.Binomial()\n",
    "glm_binom = sm.GLM(y[y.Envelope_renov_y > 0], X[y.Envelope_renov_y > 0], family=bin)\n",
    "res = glm_binom.fit()\n",
    "print(res.summary())\n"
   ]
  },
  {
   "cell_type": "code",
   "execution_count": null,
   "metadata": {},
   "outputs": [],
   "source": [
    "name_param = [\n",
    "    \"Population share 65+\",\n",
    "    \"Foreign share\",\n",
    "    \"Birth rate\",\n",
    "    \"Average household size\",\n",
    "    \"New Buildings\",\n",
    "    \"Primary sector employment per capita\",\n",
    "    \"Secondary sector employment per capita\",\n",
    "    \"Service sector employment per capita\",\n",
    "    \"Social subsidy reciever\",\n",
    "    \"Average taxable income/Taxpayer\",\n",
    "    \"Alpine region\",\n",
    "    \"Rural\",\n",
    "    \"Urban\",\n",
    "]\n",
    "\n",
    "helpers.plot_param_glm(res, name_param)\n",
    "plt.title(\"Parameters building envelope renovation (M-01)\")\n",
    "helpers.save(\"glm_m01\")\n"
   ]
  },
  {
   "cell_type": "markdown",
   "metadata": {},
   "source": [
    "The model is run on heating system replacement (M-02,...,M-07)"
   ]
  },
  {
   "cell_type": "code",
   "execution_count": null,
   "metadata": {},
   "outputs": [],
   "source": [
    "y = prop_subsidy_per_municipality[[\"Heating_renov_x\", \"Heating_renov_y\"]]\n",
    "y.index = y.index.astype(\"Int64\")\n",
    "\n",
    "bin = sm.families.Binomial()\n",
    "glm_binom = sm.GLM(y[y.Heating_renov_y > 0], X[y.Heating_renov_y > 0], family=bin)\n",
    "res = glm_binom.fit()\n",
    "print(res.summary())\n",
    "helpers.plot_param_glm(res, name_param)\n",
    "plt.title(\"Parameters Heating system replacement (M-02,...,M-07)\")\n",
    "helpers.save(\"glm_m02\")\n",
    "\n"
   ]
  },
  {
   "cell_type": "markdown",
   "metadata": {},
   "source": [
    "We finally check if the parameters changes if we split the measures into three categories:\n",
    "- Wood heating (m-02,m-03,m-04)\n",
    "- Heatpump (m-05,m-06)\n",
    "- Connection to a decentralised heating system (m-07)"
   ]
  },
  {
   "cell_type": "markdown",
   "metadata": {},
   "source": [
    "We first start with the wood."
   ]
  },
  {
   "cell_type": "code",
   "execution_count": null,
   "metadata": {},
   "outputs": [],
   "source": [
    "y = prop_subsidy_per_municipality[[\"Bois_x\", \"Bois_y\"]]\n",
    "y.index = y.index.astype(\"Int64\")\n",
    "\n",
    "bin = sm.families.Binomial()\n",
    "glm_binom = sm.GLM(y[y.Bois_y > 0], X[y.Bois_y > 0], family=bin)\n",
    "res = glm_binom.fit()\n",
    "print(res.summary())\n",
    "helpers.plot_param_glm(res, name_param)\n",
    "plt.title(\"Parameters Wood heating system (M-02,...,M-04)\")\n",
    "helpers.save(\"glm_m02_m04\")\n"
   ]
  },
  {
   "cell_type": "markdown",
   "metadata": {},
   "source": [
    "We run the same model on the second category."
   ]
  },
  {
   "cell_type": "code",
   "execution_count": null,
   "metadata": {},
   "outputs": [],
   "source": [
    "y = prop_subsidy_per_municipality[[\"Heatpump_x\", \"Heatpump_y\"]]\n",
    "y.index = y.index.astype(\"Int64\")\n",
    "bin = sm.families.Binomial()\n",
    "glm_binom = sm.GLM(y[y.Heatpump_y > 0], X[y.Heatpump_y > 0], family=bin)\n",
    "res = glm_binom.fit()\n",
    "print(res.summary())\n",
    "\n",
    "helpers.plot_param_glm(res, name_param)\n",
    "plt.title(\"Parameters Heat pump system (M-05,M-06)\")\n",
    "helpers.save(\"glm_m05_m06\")\n"
   ]
  },
  {
   "cell_type": "markdown",
   "metadata": {},
   "source": [
    "We finally run the model on the last category."
   ]
  },
  {
   "cell_type": "code",
   "execution_count": null,
   "metadata": {},
   "outputs": [],
   "source": [
    "y = prop_subsidy_per_municipality[[\"M-07_x\", \"M-07_y\"]]\n",
    "y.index = y.index.astype(\"Int64\")\n",
    "bin = sm.families.Binomial()\n",
    "glm_binom = sm.GLM(y[y[\"M-07_y\"] > 0], X[y[\"M-07_y\"] > 0], family=bin)\n",
    "res = glm_binom.fit()\n",
    "print(res.summary())\n",
    "\n",
    "helpers.plot_param_glm(res, name_param)\n",
    "plt.title(\"Parameters Dec. heating system (M-07)\")\n",
    "helpers.save(\"glm_m07\")\n"
   ]
  },
  {
   "cell_type": "code",
   "execution_count": null,
   "metadata": {},
   "outputs": [],
   "source": []
  }
 ],
 "metadata": {
  "kernelspec": {
   "display_name": "Python 3.10.4 ('test')",
   "language": "python",
   "name": "python3"
  },
  "language_info": {
   "codemirror_mode": {
    "name": "ipython",
    "version": 3
   },
   "file_extension": ".py",
   "mimetype": "text/x-python",
   "name": "python",
   "nbconvert_exporter": "python",
   "pygments_lexer": "ipython3",
   "version": "3.10.8"
  },
  "orig_nbformat": 4,
  "vscode": {
   "interpreter": {
    "hash": "97e1d25581a04eac12591ae2002b5202d82171b363b803c6e671956903272463"
   }
  }
 },
 "nbformat": 4,
 "nbformat_minor": 2
}
